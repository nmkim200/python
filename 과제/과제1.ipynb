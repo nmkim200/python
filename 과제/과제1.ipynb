{
 "metadata": {
  "language_info": {
   "codemirror_mode": {
    "name": "ipython",
    "version": 3
   },
   "file_extension": ".py",
   "mimetype": "text/x-python",
   "name": "python",
   "nbconvert_exporter": "python",
   "pygments_lexer": "ipython3",
   "version": "3.8.5"
  },
  "orig_nbformat": 2,
  "kernelspec": {
   "name": "python385jvsc74a57bd08c1eae21719a0790335dcb83aad72b63b602cfe5cdb2bda0f60bc11d4f154e4b",
   "display_name": "Python 3.8.5 64-bit ('base': conda)"
  }
 },
 "nbformat": 4,
 "nbformat_minor": 2,
 "cells": [
  {
   "source": [
    "Q1. 연도를 입력으로 받아 윤년인지 아닌지를 출력하는 프로그램을 작성하시오.\u000b윤년은 연도가 4의 배수이면서, 100의 배수가 아닐 때 또는 400의 배수일 때이다.\u000b예를들어, 2012년은 4의 배수라서 윤년이지만, 1900년은 4의 배수이지만, 100의 배수이기 때문에 윤년이 아니다. 하지만, 2000년은 400의 배수이기 때문에 윤년이다.)"
   ],
   "cell_type": "markdown",
   "metadata": {}
  },
  {
   "cell_type": "code",
   "execution_count": 10,
   "metadata": {},
   "outputs": [
    {
     "output_type": "stream",
     "name": "stdout",
     "text": [
      "윤년입니다\n"
     ]
    }
   ],
   "source": [
    "year = int(input('연도를 입력하시오'))\n",
    "if year % 4 != 0: print('윤년이 아닙니다')\n",
    "elif year % 400 == 0: print('윤년입니다')\n",
    "elif year % 100 == 0: print('윤년이 아닙니다')\n",
    "else: print('윤년입니다')"
   ]
  },
  {
   "source": [
    "Q2. \n",
    "본인의 생일을 1998 12 15 과 같이 년 월 일로 입력받아\u000b오늘 날짜의 만 나이를 구하는 프로그램을 작성하시오."
   ],
   "cell_type": "markdown",
   "metadata": {}
  },
  {
   "cell_type": "code",
   "execution_count": 21,
   "metadata": {},
   "outputs": [
    {
     "output_type": "stream",
     "name": "stdout",
     "text": [
      "만 나이는 26입니다\n"
     ]
    }
   ],
   "source": [
    "bd = input('본인의 생일을 입력하시오 ex) 1994 08 02').split()\n",
    "bd_year, bd_month, bd_date = map(int,bd)\n",
    "from datetime import date\n",
    "td = date.today()\n",
    "if (td.month*100 + td.day >= bd_month*100 +bd_date): #생일이 지났을 때\n",
    "    age = td.year - bd_year\n",
    "else:    #생일이 지나지 않았을 떄\n",
    "    age = td.year - bd_year - 1\n",
    "print(f'만 나이는 {age}입니다')    "
   ]
  },
  {
   "source": [
    "Q3. 세 자연수 a, b, c 가 피타고라스 정리 a2 + b2 = c2 를 만족하면 피타고라스 수라고 부른다. \u000b(여기서 a < b < c 이고 a + b > c)\u000b\u000b예를 들면, 32 + 42 = 9 + 16 = 25 = 52 이므로 3, 4, 5는 피타고라스 수입니다.\u000b\u000b   a + b + c = 1000 인 피타고라스 수를 구하시오. (답은 한가지 뿐이다.)"
   ],
   "cell_type": "markdown",
   "metadata": {}
  },
  {
   "cell_type": "code",
   "execution_count": 35,
   "metadata": {},
   "outputs": [
    {
     "output_type": "stream",
     "name": "stdout",
     "text": [
      "a+b+c=100을 만족하는 피타고라수는 (200,375,425)입니다\n"
     ]
    }
   ],
   "source": [
    "for a in range(1,1000):\n",
    "    for b in range(1,1000):\n",
    "       c = 1000 - (a + b)\n",
    "       if 1<=a<=1000 and 1<=b<=1000 and 1<=c<=1000 and 1<=a<b<c:\n",
    "           if a**2 + b**2 == c**2:\n",
    "               print(f'a+b+c=100을 만족하는 피타고라수는 ({a},{b},{c})입니다')\n",
    "     "
   ]
  },
  {
   "source": [
    "Q4. (별 그리기)\n",
    "5이상 9이하의 홀수를 입력받아 다이아몬드 형태의 별을 출력하는 프로그램을 \u000b작성하시오."
   ],
   "cell_type": "markdown",
   "metadata": {}
  },
  {
   "cell_type": "code",
   "execution_count": 52,
   "metadata": {},
   "outputs": [
    {
     "output_type": "stream",
     "name": "stdout",
     "text": [
      "          \n    +    \n   +++   \n  +++++  \n +++++++ \n+++++++++\n +++++++ \n  +++++  \n   +++   \n    +    \n"
     ]
    }
   ],
   "source": [
    "N = int(input('줄의 개수(5부터 9사이 홀수)'))\n",
    "for i in range((N+1)//2 + 1):\n",
    "    nums = 2*i -1\n",
    "    numb = (N-nums)//2\n",
    "    for k in range(numb):\n",
    "        print(' ', end='')\n",
    "    for k in range(nums):\n",
    "        print('+',end='')\n",
    "    for k in range(numb):\n",
    "        print(' ',end='')\n",
    "    print()            \n",
    "for i in range(1,(N+1)//2):\n",
    "    numb = i\n",
    "    nums = N-numb*2\n",
    "    for k in range(numb):\n",
    "        print(' ', end='')\n",
    "    for k in range(nums):\n",
    "        print('+',end='')\n",
    "    for k in range(numb):\n",
    "        print(' ',end='')\n",
    "    print()    "
   ]
  },
  {
   "cell_type": "code",
   "execution_count": null,
   "metadata": {},
   "outputs": [],
   "source": [
    "Q5. 디지털 시계에 하루동안(00:00~23:59) 3이 표시되는 시간을 초로 환산하면 총 몇 초(second) \u000b일까요?\u000b- 디지털 시계는 하루동안 다음과 같이 시:분(00:00~23:59)으로 표시됨.\u000b\u000b\t\t00:00 (60초간 표시)\u000b\t\t00:01 \u000b\t\t…\u000b\t\t23:59"
   ]
  },
  {
   "cell_type": "code",
   "execution_count": 55,
   "metadata": {},
   "outputs": [
    {
     "output_type": "stream",
     "name": "stdout",
     "text": [
      "29700초 동안 표시됩니다\n"
     ]
    }
   ],
   "source": [
    "sum = 0\n",
    "for t in range (0,24):\n",
    "    for m in range(0,60):\n",
    "        if t//10 == 3 or t%10 ==3 or m//10 == 3 or m%10 == 3:\n",
    "            sum += 60\n",
    "print(f'{sum}초 동안 표시됩니다')            "
   ]
  },
  {
   "source": [
    "Q6. 1~1000에서 각 숫자의 개수를 구하시오.\u000b- 예로 10 ~ 15 까지의 각 숫자의 개수를 구해보자.\u000b\t\t10 = 1, 0\u000b\t\t11 = 1, 1\u000b\t\t12 = 1, 2\u000b\t\t13 = 1, 3\u000b\t\t14 = 1, 4\u000b\t\t15 = 1, 5\u000b\u000b그러므로 이 경우의 답은 0:1개, 1:7개, 2:1개, 3:1개, 4:1개, 5:1개"
   ],
   "cell_type": "markdown",
   "metadata": {}
  },
  {
   "cell_type": "code",
   "execution_count": 67,
   "metadata": {},
   "outputs": [
    {
     "output_type": "stream",
     "name": "stdout",
     "text": [
      "0:192개, 1:301개, 2:300개, 3:300개, 4:300개, 5:300개, 6:300개, 7:300개, 8:300개, 9:300개\n"
     ]
    }
   ],
   "source": [
    "lst = [0,0,0,0,0,0,0,0,0,0]\n",
    "for i in range(1, 1001):\n",
    "    stri = str(i)\n",
    "    for j in stri:\n",
    "        lst[int(j)] +=1\n",
    "print(f'0:{lst[0]}개, 1:{lst[1]}개, 2:{lst[2]}개, 3:{lst[3]}개, 4:{lst[4]}개, 5:{lst[5]}개, 6:{lst[6]}개, 7:{lst[7]}개, 8:{lst[8]}개, 9:{lst[9]}개')         "
   ]
  },
  {
   "source": [
    "Q7. 자기 자신을 제외한 모든 양의 약수들의 합이 자기 자신이 되는 자연수를 완전수라고 한다.\u000b예를 들면, 6과 28은 완전수이다.\u000b\t\t6=1+2+3         # 1,2,3은 각각 6의 약수 \u000b\t\t28=1+2+4+7+14   # 1,2,4,7,14는 각각 28의 약수.\u000b\u000b입력으로 자연수 N을 받고, 출력으로 N 이하의 모든 완전수를 출력하는 코드를 작성하시오."
   ],
   "cell_type": "markdown",
   "metadata": {}
  },
  {
   "cell_type": "code",
   "execution_count": 116,
   "metadata": {
    "tags": []
   },
   "outputs": [
    {
     "output_type": "stream",
     "name": "stdout",
     "text": [
      "6\n",
      "28\n",
      "496\n",
      "8128\n"
     ]
    }
   ],
   "source": [
    "for n in range(1,10001):\n",
    "    lst=[]\n",
    "    for i in range(1,n+1):\n",
    "        if n%i == 0:\n",
    "            lst.append(i) #약수의 리스트\n",
    "    sum = 0\n",
    "    for i in lst:\n",
    "        sum += i\n",
    "    if sum - n == n:\n",
    "        print(n)               "
   ]
  },
  {
   "cell_type": "code",
   "execution_count": 102,
   "metadata": {},
   "outputs": [
    {
     "output_type": "stream",
     "name": "stdout",
     "text": [
      "[1]\n[1, 3]\n"
     ]
    }
   ],
   "source": [
    "lst=[]\n",
    "for i in range(1,3+1):\n",
    "    if n%i == 0:\n",
    "        lst.append(i) #약수의 리스트\n",
    "        print(lst)"
   ]
  },
  {
   "source": [
    "Q8. 1부터 10까지 자연수를 각각 제곱해 더하면 다음과 같다 (제곱의 합). \u000b\t\t12 + 22 + ... + 102 = 385 \u000b1부터 10을 먼저 더한 다음에 그 결과를 제곱하면 다음과 같습니다 (합의 제곱).\u000b\t\t(1 + 2 + ... + 10)2 = 552 = 3025 \u000b따라서 1부터 10까지 자연수에 대해 \"합의 제곱\"과 \"제곱의 합\"의 차이는 3025 - 385 = 2640 이 된다.\u000b\u000b입력으로 자연수 N을 받아, 1부터 N까지 자연수에 대해 \"합의 제곱\"과 \"제곱의 합\"의 차이는 \u000b얼마인가?"
   ],
   "cell_type": "markdown",
   "metadata": {}
  },
  {
   "cell_type": "code",
   "execution_count": 94,
   "metadata": {},
   "outputs": [
    {
     "output_type": "stream",
     "name": "stdout",
     "text": [
      "25164150\n"
     ]
    }
   ],
   "source": [
    "N = int(input('자연수를 입력하시오'))\n",
    "sumofsquare = 0\n",
    "for i in range(1,N+1):\n",
    "    sumofsquare += i**2\n",
    "sum = 0\n",
    "for i in range(1, N+1):\n",
    "    sum += i\n",
    "squareofsum = sum**2  \n",
    "diff = squareofsum-sumofsquare\n",
    "print(diff)  "
   ]
  },
  {
   "cell_type": "code",
   "execution_count": null,
   "metadata": {},
   "outputs": [],
   "source": []
  }
 ]
}